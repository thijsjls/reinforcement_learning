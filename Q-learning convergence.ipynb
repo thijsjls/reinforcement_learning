{
 "cells": [
  {
   "cell_type": "code",
   "execution_count": 16,
   "id": "a1ef11fa",
   "metadata": {},
   "outputs": [],
   "source": [
    "import numpy as np\n",
    "import random\n",
    "from collections import defaultdict"
   ]
  },
  {
   "cell_type": "code",
   "execution_count": 17,
   "id": "4164a73e",
   "metadata": {
    "scrolled": false
   },
   "outputs": [],
   "source": [
    "def sample_episode(mdp):\n",
    "    episode = []\n",
    "    s = 'A'\n",
    "    while s != 'T':\n",
    "        a = random.sample(list(mdp[s].keys()), 1)[0]\n",
    "        r = mdp[s][a][0]\n",
    "        episode.append((s, a, r))\n",
    "        s = mdp[s][a][1]\n",
    "    return episode\n",
    "\n",
    "def max_a(Q, mdp, s, a):\n",
    "    max_Q = -1000000000000000000\n",
    "    s_nxt = mdp[s][a][1]\n",
    "    if s_nxt == 'T':\n",
    "        return 0\n",
    "    for a_nxt in mdp[s_nxt].keys():\n",
    "        if Q[(s_nxt, a_nxt)] > max_Q:\n",
    "            max_Q = Q[(s_nxt, a_nxt)]\n",
    "    return max_Q\n",
    "\n",
    "def Q_learning(mdp, alpha, gamma):\n",
    "    Q = defaultdict(float)\n",
    "    # init Q(S,A) = 0 for all S and A\n",
    "    for state in mdp.keys():\n",
    "        for action in mdp[state].keys():\n",
    "            Q[(state, action)] = 0\n",
    "    # while not converged :: abs(Q(S,A)_n - Q(S,A)_n-1) < 0.001\n",
    "    converged = False\n",
    "    while not converged:\n",
    "        episode = sample_episode(mdp)\n",
    "        for s, a, r in episode:\n",
    "            tmp = Q[(s,a)] + alpha * (r + gamma * max_a(Q, mdp, s, a) - Q[s,a])\n",
    "            if s == 'C' and a == 1:\n",
    "                if abs(tmp - Q[(s,a)]) < 0.000000001:\n",
    "                    converged = True\n",
    "            Q[(s,a)] = tmp\n",
    "    return Q\n"
   ]
  },
  {
   "cell_type": "code",
   "execution_count": 18,
   "id": "0302dd59",
   "metadata": {},
   "outputs": [
    {
     "name": "stdout",
     "output_type": "stream",
     "text": [
      "1.9\n",
      "('A', 0) 1.9999999999999145\n",
      "('A', 1) 3.9999999801776536\n",
      "('B', 0) 0.9999999999999978\n",
      "('C', 0) 1.999999990599159\n",
      "('C', 1) 1.8999999910692007\n"
     ]
    }
   ],
   "source": [
    "# 4.4.1\n",
    "# n = np.random.randint(-1000000000000000000, 2)\n",
    "n = 1.9\n",
    "print(n)\n",
    "\n",
    "mdp_1 = {\n",
    "    'A':{0: (1, 'B'), 1: (2, 'C')},\n",
    "    'B':{0: (1, 'T')},\n",
    "    'C':{0: (2, 'T'), 1: (n, 'T')}\n",
    "      }\n",
    "\n",
    "Q = Q_learning(mdp_1, 0.1, 1)\n",
    "for q in Q.keys():\n",
    "    print(q, Q[q])"
   ]
  },
  {
   "cell_type": "code",
   "execution_count": 19,
   "id": "1baea8a8",
   "metadata": {},
   "outputs": [
    {
     "name": "stdout",
     "output_type": "stream",
     "text": [
      "-10\n",
      "('A', 0) 1.9999999999999987\n",
      "('A', 1) 3.9999999991172532\n",
      "('B', 0) 0.9999999999999996\n",
      "('C', 0) 1.9999999995080096\n",
      "('C', 1) -9.999999991290025\n"
     ]
    }
   ],
   "source": [
    "# 4.4.2\n",
    "# n = np.random.randint(-1000000000000000000, 1000000000000000000)\n",
    "n = -10\n",
    "print(n)\n",
    "\n",
    "mdp_1 = {\n",
    "    'A':{0: (1, 'B'), 1: (2, 'C')},\n",
    "    'B':{0: (1, 'T')},\n",
    "    'C':{0: (2, 'T'), 1: (n, 'T')}\n",
    "      }\n",
    "\n",
    "Q = Q_learning(mdp_1, 0.1, 1)\n",
    "for q in Q.keys():\n",
    "    print(q, Q[q])"
   ]
  },
  {
   "cell_type": "code",
   "execution_count": 20,
   "id": "da0fd06d",
   "metadata": {},
   "outputs": [
    {
     "name": "stdout",
     "output_type": "stream",
     "text": [
      "('A', 0) 1.9999999999999987\n",
      "('A', 1) 3.999999959488401\n",
      "('B', 0) 0.9999999999999996\n",
      "('C', 0) 1.999999982310659\n",
      "('C', 1) 0.9999999911553294\n",
      "\n",
      "('A', 0) 1.9999999999999987\n",
      "('A', 1) 3.9999999977892027\n",
      "('A', 2) 1.9999999999999987\n",
      "('B', 0) 0.9999999999999996\n",
      "('C', 0) 1.9999999992501287\n",
      "('C', 1) 0.9999999911553294\n"
     ]
    }
   ],
   "source": [
    "# 4.4.3\n",
    "n = 1\n",
    "\n",
    "mdp_1 = {\n",
    "    'A':{0: (1, 'B'), 1: (2, 'C')},\n",
    "    'B':{0: (1, 'T')},\n",
    "    'C':{0: (2, 'T'), 1: (n, 'T')}\n",
    "      }\n",
    "\n",
    "mdp_2 = {\n",
    "    'A':{0: (1, 'B'), 1: (2, 'C'), 2: (1, 'B')},\n",
    "    'B':{0: (1, 'T')},\n",
    "    'C':{0: (2, 'T'), 1: (n, 'T')}\n",
    "      }\n",
    "\n",
    "Q = Q_learning(mdp_1, 0.1, 1)\n",
    "for q in Q.keys():\n",
    "    print(q, Q[q])\n",
    "    \n",
    "print()\n",
    "\n",
    "Q = Q_learning(mdp_2, 0.1, 1)\n",
    "for q in Q.keys():\n",
    "    print(q, Q[q])"
   ]
  },
  {
   "cell_type": "code",
   "execution_count": null,
   "id": "f34b697a",
   "metadata": {},
   "outputs": [],
   "source": []
  }
 ],
 "metadata": {
  "kernelspec": {
   "display_name": "Python 3 (ipykernel)",
   "language": "python",
   "name": "python3"
  },
  "language_info": {
   "codemirror_mode": {
    "name": "ipython",
    "version": 3
   },
   "file_extension": ".py",
   "mimetype": "text/x-python",
   "name": "python",
   "nbconvert_exporter": "python",
   "pygments_lexer": "ipython3",
   "version": "3.9.9"
  }
 },
 "nbformat": 4,
 "nbformat_minor": 5
}
